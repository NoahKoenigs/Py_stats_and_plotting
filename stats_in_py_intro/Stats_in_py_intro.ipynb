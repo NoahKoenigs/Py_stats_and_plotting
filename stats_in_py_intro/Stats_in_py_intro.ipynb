{
 "cells": [
  {
   "cell_type": "markdown",
   "id": "29ef32b6-fc29-4701-9bf0-94296aeba770",
   "metadata": {},
   "source": [
    "# Intro to stats in python"
   ]
  },
  {
   "cell_type": "code",
   "execution_count": 1,
   "id": "ee3116b7-fe61-49fc-8159-3d74cd758b3d",
   "metadata": {
    "tags": []
   },
   "outputs": [],
   "source": [
    "import pandas as pd\n",
    "import numpy as np"
   ]
  },
  {
   "cell_type": "markdown",
   "id": "89d613df-787b-448d-a6d9-eaebed42075c",
   "metadata": {},
   "source": [
    "## Import .csv file"
   ]
  },
  {
   "cell_type": "code",
   "execution_count": 8,
   "id": "eec9f74e-7cf6-4d7b-8a59-2cda6f7dfc9f",
   "metadata": {
    "tags": []
   },
   "outputs": [
    {
     "ename": "NameError",
     "evalue": "name 'brain_size' is not defined",
     "output_type": "error",
     "traceback": [
      "\u001b[0;31m---------------------------------------------------------------------------\u001b[0m",
      "\u001b[0;31mNameError\u001b[0m                                 Traceback (most recent call last)",
      "Cell \u001b[0;32mIn[8], line 1\u001b[0m\n\u001b[0;32m----> 1\u001b[0m data \u001b[38;5;241m=\u001b[39m pd\u001b[38;5;241m.\u001b[39mread_csv(\u001b[43mbrain_size\u001b[49m\u001b[38;5;241m.\u001b[39mcsv)\n",
      "\u001b[0;31mNameError\u001b[0m: name 'brain_size' is not defined"
     ]
    }
   ],
   "source": [
    "data = pd.read_csv(brain_size.csv)"
   ]
  },
  {
   "cell_type": "code",
   "execution_count": 7,
   "id": "9b593adf-3b40-4140-81fb-16addfa22288",
   "metadata": {
    "tags": []
   },
   "outputs": [],
   "source": [
    "filename = \"brain_size.csv\""
   ]
  },
  {
   "cell_type": "code",
   "execution_count": 3,
   "id": "0aabe40c-5631-4750-90ce-361e35aa9de2",
   "metadata": {
    "tags": []
   },
   "outputs": [
    {
     "name": "stdout",
     "output_type": "stream",
     "text": [
      "brain_size.csv\n"
     ]
    }
   ],
   "source": [
    "print(filename)"
   ]
  },
  {
   "cell_type": "code",
   "execution_count": null,
   "id": "06ba73dc-bd35-4dd5-b911-18a87eaf1fba",
   "metadata": {},
   "outputs": [],
   "source": []
  }
 ],
 "metadata": {
  "kernelspec": {
   "display_name": "Python 3 (ipykernel)",
   "language": "python",
   "name": "python3"
  },
  "language_info": {
   "codemirror_mode": {
    "name": "ipython",
    "version": 3
   },
   "file_extension": ".py",
   "mimetype": "text/x-python",
   "name": "python",
   "nbconvert_exporter": "python",
   "pygments_lexer": "ipython3",
   "version": "3.11.4"
  }
 },
 "nbformat": 4,
 "nbformat_minor": 5
}
