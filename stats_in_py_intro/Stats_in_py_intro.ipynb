{
 "cells": [
  {
   "cell_type": "markdown",
   "id": "29ef32b6-fc29-4701-9bf0-94296aeba770",
   "metadata": {},
   "source": [
    "# Intro to stats in python"
   ]
  },
  {
   "cell_type": "code",
   "execution_count": 2,
   "id": "ee3116b7-fe61-49fc-8159-3d74cd758b3d",
   "metadata": {
    "tags": []
   },
   "outputs": [],
   "source": [
    "import pandas as pd\n",
    "import numpy as np"
   ]
  },
  {
   "cell_type": "markdown",
   "id": "89d613df-787b-448d-a6d9-eaebed42075c",
   "metadata": {},
   "source": [
    "## Import .csv file"
   ]
  },
  {
   "cell_type": "code",
   "execution_count": 17,
   "id": "eec9f74e-7cf6-4d7b-8a59-2cda6f7dfc9f",
   "metadata": {
    "tags": []
   },
   "outputs": [
    {
     "name": "stdout",
     "output_type": "stream",
     "text": [
      "    Unnamed: 0  Gender  FSIQ  VIQ  PIQ  Weight  Height  MRI_Count\n",
      "0            1  Female   133  132  124   118.0    64.5     816932\n",
      "1            2    Male   140  150  124     NaN    72.5    1001121\n",
      "2            3    Male   139  123  150   143.0    73.3    1038437\n",
      "3            4    Male   133  129  128   172.0    68.8     965353\n",
      "4            5  Female   137  132  134   147.0    65.0     951545\n",
      "5            6  Female    99   90  110   146.0    69.0     928799\n",
      "6            7  Female   138  136  131   138.0    64.5     991305\n",
      "7            8  Female    92   90   98   175.0    66.0     854258\n",
      "8            9    Male    89   93   84   134.0    66.3     904858\n",
      "9           10    Male   133  114  147   172.0    68.8     955466\n",
      "10          11  Female   132  129  124   118.0    64.5     833868\n",
      "11          12    Male   141  150  128   151.0    70.0    1079549\n",
      "12          13    Male   135  129  124   155.0    69.0     924059\n",
      "13          14  Female   140  120  147   155.0    70.5     856472\n",
      "14          15  Female    96  100   90   146.0    66.0     878897\n",
      "15          16  Female    83   71   96   135.0    68.0     865363\n",
      "16          17  Female   132  132  120   127.0    68.5     852244\n",
      "17          18    Male   100   96  102   178.0    73.5     945088\n",
      "18          19  Female   101  112   84   136.0    66.3     808020\n",
      "19          20    Male    80   77   86   180.0    70.0     889083\n",
      "20          21    Male    83   83   86     NaN     NaN     892420\n",
      "21          22    Male    97  107   84   186.0    76.5     905940\n",
      "22          23  Female   135  129  134   122.0    62.0     790619\n",
      "23          24    Male   139  145  128   132.0    68.0     955003\n",
      "24          25  Female    91   86  102   114.0    63.0     831772\n",
      "25          26    Male   141  145  131   171.0    72.0     935494\n",
      "26          27  Female    85   90   84   140.0    68.0     798612\n",
      "27          28    Male   103   96  110   187.0    77.0    1062462\n",
      "28          29  Female    77   83   72   106.0    63.0     793549\n",
      "29          30  Female   130  126  124   159.0    66.5     866662\n",
      "30          31  Female   133  126  132   127.0    62.5     857782\n",
      "31          32    Male   144  145  137   191.0    67.0     949589\n",
      "32          33    Male   103   96  110   192.0    75.5     997925\n",
      "33          34    Male    90   96   86   181.0    69.0     879987\n",
      "34          35  Female    83   90   81   143.0    66.5     834344\n",
      "35          36  Female   133  129  128   153.0    66.5     948066\n",
      "36          37    Male   140  150  124   144.0    70.5     949395\n",
      "37          38  Female    88   86   94   139.0    64.5     893983\n",
      "38          39    Male    81   90   74   148.0    74.0     930016\n",
      "39          40    Male    89   91   89   179.0    75.5     935863\n"
     ]
    }
   ],
   "source": [
    "data = pd.read_csv(\"brain_size.csv\", sep=';' , na_values = \".\")\n",
    "print(data)"
   ]
  },
  {
   "cell_type": "markdown",
   "id": "e11e110f-6b15-4edf-835b-731e62124560",
   "metadata": {},
   "source": [
    "### Numpy Array"
   ]
  },
  {
   "cell_type": "code",
   "execution_count": 22,
   "id": "e6e1954e-8b28-46df-8415-ce7b061a9dbf",
   "metadata": {
    "tags": []
   },
   "outputs": [],
   "source": [
    "t = np.linspace(-6, 6,20)\n",
    "sin_t = np.sin(t)\n",
    "cos_t = np.cos(t)"
   ]
  },
  {
   "cell_type": "markdown",
   "id": "593de8b3-c4ad-427f-ab00-b5dd14501ecf",
   "metadata": {},
   "source": [
    "### Numpy Array Exposed in Pandas"
   ]
  },
  {
   "cell_type": "code",
   "execution_count": 23,
   "id": "9b593adf-3b40-4140-81fb-16addfa22288",
   "metadata": {
    "tags": []
   },
   "outputs": [
    {
     "data": {
      "text/html": [
       "<div>\n",
       "<style scoped>\n",
       "    .dataframe tbody tr th:only-of-type {\n",
       "        vertical-align: middle;\n",
       "    }\n",
       "\n",
       "    .dataframe tbody tr th {\n",
       "        vertical-align: top;\n",
       "    }\n",
       "\n",
       "    .dataframe thead th {\n",
       "        text-align: right;\n",
       "    }\n",
       "</style>\n",
       "<table border=\"1\" class=\"dataframe\">\n",
       "  <thead>\n",
       "    <tr style=\"text-align: right;\">\n",
       "      <th></th>\n",
       "      <th>t</th>\n",
       "      <th>sin</th>\n",
       "      <th>cos</th>\n",
       "    </tr>\n",
       "  </thead>\n",
       "  <tbody>\n",
       "    <tr>\n",
       "      <th>0</th>\n",
       "      <td>-6.000000</td>\n",
       "      <td>0.279415</td>\n",
       "      <td>0.960170</td>\n",
       "    </tr>\n",
       "    <tr>\n",
       "      <th>1</th>\n",
       "      <td>-5.368421</td>\n",
       "      <td>0.792419</td>\n",
       "      <td>0.609977</td>\n",
       "    </tr>\n",
       "    <tr>\n",
       "      <th>2</th>\n",
       "      <td>-4.736842</td>\n",
       "      <td>0.999701</td>\n",
       "      <td>0.024451</td>\n",
       "    </tr>\n",
       "    <tr>\n",
       "      <th>3</th>\n",
       "      <td>-4.105263</td>\n",
       "      <td>0.821291</td>\n",
       "      <td>-0.570509</td>\n",
       "    </tr>\n",
       "    <tr>\n",
       "      <th>4</th>\n",
       "      <td>-3.473684</td>\n",
       "      <td>0.326021</td>\n",
       "      <td>-0.945363</td>\n",
       "    </tr>\n",
       "    <tr>\n",
       "      <th>5</th>\n",
       "      <td>-2.842105</td>\n",
       "      <td>-0.295030</td>\n",
       "      <td>-0.955488</td>\n",
       "    </tr>\n",
       "    <tr>\n",
       "      <th>6</th>\n",
       "      <td>-2.210526</td>\n",
       "      <td>-0.802257</td>\n",
       "      <td>-0.596979</td>\n",
       "    </tr>\n",
       "    <tr>\n",
       "      <th>7</th>\n",
       "      <td>-1.578947</td>\n",
       "      <td>-0.999967</td>\n",
       "      <td>-0.008151</td>\n",
       "    </tr>\n",
       "    <tr>\n",
       "      <th>8</th>\n",
       "      <td>-0.947368</td>\n",
       "      <td>-0.811882</td>\n",
       "      <td>0.583822</td>\n",
       "    </tr>\n",
       "    <tr>\n",
       "      <th>9</th>\n",
       "      <td>-0.315789</td>\n",
       "      <td>-0.310567</td>\n",
       "      <td>0.950551</td>\n",
       "    </tr>\n",
       "    <tr>\n",
       "      <th>10</th>\n",
       "      <td>0.315789</td>\n",
       "      <td>0.310567</td>\n",
       "      <td>0.950551</td>\n",
       "    </tr>\n",
       "    <tr>\n",
       "      <th>11</th>\n",
       "      <td>0.947368</td>\n",
       "      <td>0.811882</td>\n",
       "      <td>0.583822</td>\n",
       "    </tr>\n",
       "    <tr>\n",
       "      <th>12</th>\n",
       "      <td>1.578947</td>\n",
       "      <td>0.999967</td>\n",
       "      <td>-0.008151</td>\n",
       "    </tr>\n",
       "    <tr>\n",
       "      <th>13</th>\n",
       "      <td>2.210526</td>\n",
       "      <td>0.802257</td>\n",
       "      <td>-0.596979</td>\n",
       "    </tr>\n",
       "    <tr>\n",
       "      <th>14</th>\n",
       "      <td>2.842105</td>\n",
       "      <td>0.295030</td>\n",
       "      <td>-0.955488</td>\n",
       "    </tr>\n",
       "    <tr>\n",
       "      <th>15</th>\n",
       "      <td>3.473684</td>\n",
       "      <td>-0.326021</td>\n",
       "      <td>-0.945363</td>\n",
       "    </tr>\n",
       "    <tr>\n",
       "      <th>16</th>\n",
       "      <td>4.105263</td>\n",
       "      <td>-0.821291</td>\n",
       "      <td>-0.570509</td>\n",
       "    </tr>\n",
       "    <tr>\n",
       "      <th>17</th>\n",
       "      <td>4.736842</td>\n",
       "      <td>-0.999701</td>\n",
       "      <td>0.024451</td>\n",
       "    </tr>\n",
       "    <tr>\n",
       "      <th>18</th>\n",
       "      <td>5.368421</td>\n",
       "      <td>-0.792419</td>\n",
       "      <td>0.609977</td>\n",
       "    </tr>\n",
       "    <tr>\n",
       "      <th>19</th>\n",
       "      <td>6.000000</td>\n",
       "      <td>-0.279415</td>\n",
       "      <td>0.960170</td>\n",
       "    </tr>\n",
       "  </tbody>\n",
       "</table>\n",
       "</div>"
      ],
      "text/plain": [
       "           t       sin       cos\n",
       "0  -6.000000  0.279415  0.960170\n",
       "1  -5.368421  0.792419  0.609977\n",
       "2  -4.736842  0.999701  0.024451\n",
       "3  -4.105263  0.821291 -0.570509\n",
       "4  -3.473684  0.326021 -0.945363\n",
       "5  -2.842105 -0.295030 -0.955488\n",
       "6  -2.210526 -0.802257 -0.596979\n",
       "7  -1.578947 -0.999967 -0.008151\n",
       "8  -0.947368 -0.811882  0.583822\n",
       "9  -0.315789 -0.310567  0.950551\n",
       "10  0.315789  0.310567  0.950551\n",
       "11  0.947368  0.811882  0.583822\n",
       "12  1.578947  0.999967 -0.008151\n",
       "13  2.210526  0.802257 -0.596979\n",
       "14  2.842105  0.295030 -0.955488\n",
       "15  3.473684 -0.326021 -0.945363\n",
       "16  4.105263 -0.821291 -0.570509\n",
       "17  4.736842 -0.999701  0.024451\n",
       "18  5.368421 -0.792419  0.609977\n",
       "19  6.000000 -0.279415  0.960170"
      ]
     },
     "execution_count": 23,
     "metadata": {},
     "output_type": "execute_result"
    }
   ],
   "source": [
    "pd.DataFrame({'t': t, 'sin': sin_t, \"cos\" : cos_t})"
   ]
  },
  {
   "cell_type": "markdown",
   "id": "cb63f76c-3dd6-42ef-adf7-aafb4c37e317",
   "metadata": {},
   "source": [
    "## Manuipulating data"
   ]
  },
  {
   "cell_type": "code",
   "execution_count": 31,
   "id": "9dddf43a-c7b0-4ea1-9fa3-4af06d667377",
   "metadata": {
    "tags": []
   },
   "outputs": [
    {
     "data": {
      "text/plain": [
       "(40, 8)"
      ]
     },
     "execution_count": 31,
     "metadata": {},
     "output_type": "execute_result"
    }
   ],
   "source": [
    "data.shape #It has 40 rows and 8 columns\n",
    "(40,8)"
   ]
  },
  {
   "cell_type": "code",
   "execution_count": 44,
   "id": "b95cca90-edf0-4e70-b239-adb654b61751",
   "metadata": {
    "tags": []
   },
   "outputs": [
    {
     "ename": "NameError",
     "evalue": "name 'column_names' is not defined",
     "output_type": "error",
     "traceback": [
      "\u001b[0;31m---------------------------------------------------------------------------\u001b[0m",
      "\u001b[0;31mNameError\u001b[0m                                 Traceback (most recent call last)",
      "Cell \u001b[0;32mIn[44], line 2\u001b[0m\n\u001b[1;32m      1\u001b[0m data\u001b[38;5;241m.\u001b[39mcolumns \u001b[38;5;66;03m# It has columns \u001b[39;00m\n\u001b[0;32m----> 2\u001b[0m \u001b[43mcolumn_names\u001b[49m([\u001b[38;5;124mu\u001b[39m\u001b[38;5;124m'\u001b[39m\u001b[38;5;124mUnnamed: 0\u001b[39m\u001b[38;5;124m'\u001b[39m, \u001b[38;5;124mu\u001b[39m\u001b[38;5;124m'\u001b[39m\u001b[38;5;124mGender\u001b[39m\u001b[38;5;124m'\u001b[39m, \u001b[38;5;124mu\u001b[39m\u001b[38;5;124m'\u001b[39m\u001b[38;5;124mFISQ\u001b[39m\u001b[38;5;124m'\u001b[39m, \u001b[38;5;124mu\u001b[39m\u001b[38;5;124m'\u001b[39m\u001b[38;5;124mVIQ\u001b[39m\u001b[38;5;124m'\u001b[39m, \u001b[38;5;124mu\u001b[39m\u001b[38;5;124m'\u001b[39m\u001b[38;5;124mPIQ\u001b[39m\u001b[38;5;124m'\u001b[39m, \u001b[38;5;124mu\u001b[39m\u001b[38;5;124m'\u001b[39m\u001b[38;5;124mWeight\u001b[39m\u001b[38;5;124m'\u001b[39m, \u001b[38;5;124mu\u001b[39m\u001b[38;5;124m'\u001b[39m\u001b[38;5;124mHeight\u001b[39m\u001b[38;5;124m'\u001b[39m, \u001b[38;5;124mu\u001b[39m\u001b[38;5;124m'\u001b[39m\u001b[38;5;124mMRI_Count\u001b[39m\u001b[38;5;124m'\u001b[39m], dtype\u001b[38;5;241m=\u001b[39m\u001b[38;5;124m'\u001b[39m\u001b[38;5;124mobject\u001b[39m\u001b[38;5;124m'\u001b[39m)\n\u001b[1;32m      3\u001b[0m \u001b[38;5;28mprint\u001b[39m(data[\u001b[38;5;124m'\u001b[39m\u001b[38;5;124mGender\u001b[39m\u001b[38;5;124m'\u001b[39m]) \u001b[38;5;66;03m#Columns can be shown by name\u001b[39;00m\n",
      "\u001b[0;31mNameError\u001b[0m: name 'column_names' is not defined"
     ]
    }
   ],
   "source": [
    ">>> data.columns # It has columns \n",
    "column_names([u'Unnamed: 0', u'Gender', u'FISQ', u'VIQ', u'PIQ', u'Weight', u'Height', u'MRI_Count'], dtype='object')\n",
    ">>> print(data['Gender']) #Columns can be shown by name"
   ]
  },
  {
   "cell_type": "markdown",
   "id": "71be9f54-03cf-4f88-bf39-20e56559a1db",
   "metadata": {},
   "source": [
    "## "
   ]
  },
  {
   "cell_type": "code",
   "execution_count": null,
   "id": "33700207-e8b8-4ec0-be33-251735212bfd",
   "metadata": {},
   "outputs": [],
   "source": []
  }
 ],
 "metadata": {
  "kernelspec": {
   "display_name": "Python 3 (ipykernel)",
   "language": "python",
   "name": "python3"
  },
  "language_info": {
   "codemirror_mode": {
    "name": "ipython",
    "version": 3
   },
   "file_extension": ".py",
   "mimetype": "text/x-python",
   "name": "python",
   "nbconvert_exporter": "python",
   "pygments_lexer": "ipython3",
   "version": "3.11.4"
  }
 },
 "nbformat": 4,
 "nbformat_minor": 5
}
